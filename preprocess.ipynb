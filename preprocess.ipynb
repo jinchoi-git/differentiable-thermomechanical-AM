{
 "cells": [
  {
   "cell_type": "code",
   "execution_count": 1,
   "id": "3242d467",
   "metadata": {
    "ExecuteTime": {
     "end_time": "2023-05-24T19:19:14.984287Z",
     "start_time": "2023-05-24T19:19:13.047716Z"
    }
   },
   "outputs": [],
   "source": [
    "import sys\n",
    "import numpy as np\n",
    "from numba import jit,vectorize,guvectorize,cuda\n",
    "import pandas as pd\n",
    "import pyvista as pv\n",
    "from pyvirtualdisplay import Display\n",
    "import vtk\n",
    "sys.path.append(\"./includes\")\n",
    "from preprocessor import write_keywords,write_birth,write_parameters, domain_mgr, heat_solve_mgr, load_toolpath, get_toolpath"
   ]
  },
  {
   "cell_type": "code",
   "execution_count": 2,
   "id": "0a788c5c",
   "metadata": {},
   "outputs": [],
   "source": [
    "np.bool = np.bool_"
   ]
  },
  {
   "cell_type": "code",
   "execution_count": 3,
   "id": "9d69f4cc",
   "metadata": {
    "ExecuteTime": {
     "end_time": "2023-05-24T20:51:00.786562Z",
     "start_time": "2023-05-24T20:50:50.932083Z"
    }
   },
   "outputs": [
    {
     "ename": "",
     "evalue": "",
     "output_type": "error",
     "traceback": [
      "\u001b[1;31mThe Kernel crashed while executing code in the current cell or a previous cell. \n",
      "\u001b[1;31mPlease review the code in the cell(s) to identify a possible cause of the failure. \n",
      "\u001b[1;31mClick <a href='https://aka.ms/vscodeJupyterKernelCrash'>here</a> for more info. \n",
      "\u001b[1;31mView Jupyter <a href='command:jupyter.viewOutput'>log</a> for further details."
     ]
    }
   ],
   "source": [
    "base_name = '1_stsl'\n",
    "file_name = f'{base_name}.inp' #input mesh file from abaqus\n",
    "toolpath_file = f'{base_name}.crs'\n",
    "output_file = f'{base_name}.k' #define keyword file name\n",
    "\n",
    "gif_time = 1\n",
    "substrate_height = 1.\n",
    "radius = 1.12\n",
    "path_resolution = 0.1 # half of the element size\n",
    "write_keywords(file_name,output_file,substrate_height)\n",
    "write_birth(output_file,toolpath_file,path_resolution,radius,gif_end=gif_time,nFrame=gif_time,mode=1,camera_position=[(0, -50, 75),(0, 0, 0),(0.0, 0.0, 1.0)])\n",
    "write_parameters(output_file)"
   ]
  },
  {
   "cell_type": "code",
   "execution_count": null,
   "id": "2eaa2552",
   "metadata": {},
   "outputs": [],
   "source": [
    "domain = domain_mgr(filename='1x5.k')\n",
    "heat_solver = heat_solve_mgr(domain)\n",
    "\n",
    "data_dir = \"./preprocessed_1x5\"\n",
    "os.makedirs(data_dir, exist_ok=True)\n",
    "np.save(os.path.join(data_dir, 'elements'), domain.elements)\n",
    "np.save(os.path.join(data_dir, 'nodes'), domain.nodes)          # fixed: remove leading dot\n",
    "np.save(os.path.join(data_dir, 'surface'), domain.surface)\n",
    "np.save(os.path.join(data_dir, 'node_birth'), domain.node_birth)\n",
    "np.save(os.path.join(data_dir, 'element_birth'), domain.element_birth)\n",
    "np.save(os.path.join(data_dir, 'surface_birth'), domain.surface_birth)\n",
    "np.save(os.path.join(data_dir, 'surface_xy'), domain.surface_xy)\n",
    "np.save(os.path.join(data_dir, 'surface_flux'), domain.surface_flux)"
   ]
  },
  {
   "cell_type": "code",
   "execution_count": null,
   "id": "2f1d5664",
   "metadata": {},
   "outputs": [],
   "source": []
  }
 ],
 "metadata": {
  "kernelspec": {
   "display_name": "polyc",
   "language": "python",
   "name": "python3"
  },
  "language_info": {
   "codemirror_mode": {
    "name": "ipython",
    "version": 3
   },
   "file_extension": ".py",
   "mimetype": "text/x-python",
   "name": "python",
   "nbconvert_exporter": "python",
   "pygments_lexer": "ipython3",
   "version": "3.8.13"
  }
 },
 "nbformat": 4,
 "nbformat_minor": 5
}

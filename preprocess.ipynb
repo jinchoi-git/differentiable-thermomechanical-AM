{
 "cells": [
  {
   "cell_type": "code",
   "execution_count": 12,
   "id": "3242d467",
   "metadata": {
    "ExecuteTime": {
     "end_time": "2023-05-24T19:19:14.984287Z",
     "start_time": "2023-05-24T19:19:13.047716Z"
    }
   },
   "outputs": [],
   "source": [
    "import sys\n",
    "sys.path.append('./includes/')\n",
    "import os\n",
    "from preprocessor import write_keywords,write_birth,write_parameters\n",
    "from gamma_test import domain_mgr, heat_solve_mgr,load_toolpath,get_toolpath\n",
    "import cupy as cp\n",
    "import numpy as np\n",
    "import pyvista as pv\n",
    "import vtk\n",
    "\n",
    "cp.cuda.Device(0).use()\n",
    "np.bool = np.bool_"
   ]
  },
  {
   "cell_type": "code",
   "execution_count": 13,
   "id": "9d69f4cc",
   "metadata": {
    "ExecuteTime": {
     "end_time": "2023-05-24T20:51:00.786562Z",
     "start_time": "2023-05-24T20:50:50.932083Z"
    }
   },
   "outputs": [],
   "source": [
    "file_name = '10x5.inp' #input mesh file from abaqus\n",
    "toolpath_file = 'toolpath.crs'\n",
    "output_file = '10x5.k' #define keyword file name\n",
    "\n",
    "substrate_height = 3.\n",
    "radius = 1.12\n",
    "path_resolution = 0.1 # half of the element size\n",
    "write_keywords(file_name,output_file,substrate_height)\n",
    "write_birth(output_file,toolpath_file,path_resolution,radius,gif_end=15,nFrame=100,mode=1,camera_position=[(0, -50, 75),(0, 0, 0),(0.0, 0.0, 1.0)])\n",
    "write_parameters(output_file)"
   ]
  },
  {
   "cell_type": "code",
   "execution_count": 14,
   "id": "6f67c776",
   "metadata": {},
   "outputs": [
    {
     "name": "stdout",
     "output_type": "stream",
     "text": [
      "Time of reading input files: 0.0038115978240966797\n",
      "Time of calculating critical timestep: 0.008064031600952148\n",
      "Time of reading and interpolating toolpath: 0.0017192363739013672\n",
      "Number of nodes: 350\n",
      "Number of elements: 176\n",
      "Number of time-steps: 750\n",
      "Time of generating surface: 0.895655632019043\n"
     ]
    }
   ],
   "source": [
    "domain = domain_mgr(filename='10x5.k')\n",
    "heat_solver = heat_solve_mgr(domain)"
   ]
  },
  {
   "cell_type": "code",
   "execution_count": 7,
   "id": "3254cd05",
   "metadata": {},
   "outputs": [],
   "source": [
    "np.save('./data/elements', domain.elements)\n",
    "np.save('./data/nodes', domain.nodes)\n",
    "np.save('./data/surface', domain.surface)\n",
    "np.save('./data/node_birth', domain.node_birth)\n",
    "np.save('./data/element_birth', domain.element_birth)\n",
    "np.save('./data/surface_birth', domain.surface_birth)\n",
    "np.save('./data/surface_xy', domain.surface_xy)\n",
    "np.save('./data/surface_flux', domain.surface_flux)"
   ]
  },
  {
   "cell_type": "code",
   "execution_count": null,
   "id": "ee498982",
   "metadata": {},
   "outputs": [],
   "source": []
  }
 ],
 "metadata": {
  "kernelspec": {
   "display_name": "Python 3 (ipykernel)",
   "language": "python",
   "name": "python3"
  },
  "language_info": {
   "codemirror_mode": {
    "name": "ipython",
    "version": 3
   },
   "file_extension": ".py",
   "mimetype": "text/x-python",
   "name": "python",
   "nbconvert_exporter": "python",
   "pygments_lexer": "ipython3",
   "version": "3.11.5"
  }
 },
 "nbformat": 4,
 "nbformat_minor": 5
}
